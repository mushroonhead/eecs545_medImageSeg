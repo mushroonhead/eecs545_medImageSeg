{
 "cells": [
  {
   "attachments": {},
   "cell_type": "markdown",
   "metadata": {},
   "source": [
    "# Data Preperation (Manual)"
   ]
  },
  {
   "attachments": {},
   "cell_type": "markdown",
   "metadata": {},
   "source": [
    "Assumes you had prepared data according to manual method shown in Youtube video (https://www.youtube.com/watch?v=M3ZWfamWrBM)\n",
    "\n",
    "Prior Steps involved:\n",
    "1. Create 'dicom_file' folder to store all dicom intermediate data\n",
    "2. Create 'images' and 'labels' folders in 'dicom_file' to store all input(data) and output(labels)\n",
    "3. For each patient, use 3D Slicer to convert their image and segmentation data into images and labels\n",
    "4. Create 'dicom_group' folder to store all subsampled intermediate data\n",
    "5. Create 'images' and 'labels' folders in 'dicom_group' to store all input(data) and output(labels)\n",
    "6. Create 'nifti_files' folder to store nifti outputs\n",
    "7. Create 'images' and 'labels' folders in 'nifti_files' to store all input(data) and output(labels)\n",
    "8. Create 'task_data' folder to store final data location\n",
    "9. Create 'TrainVolumes', 'TrainSegmentation', 'TestVolumes', 'TestSegmentation' folders in 'task_data' to store seperation of data for each use case"
   ]
  },
  {
   "cell_type": "code",
   "execution_count": 5,
   "metadata": {},
   "outputs": [],
   "source": [
    "# define folder containin dicom and nifti intermediates\n",
    "\n",
    "in_images_dir = \"../dicom_file/images\"\n",
    "out_images_dir = \"../dicom_groups/images\"\n",
    "out_nifti_img_dir = \"../nifti_files/images/\"\n",
    "\n",
    "in_labels_dir = \"../dicom_file/labels\"\n",
    "out_labels_dir = \"../dicom_groups/labels\"\n",
    "out_nifti_lbl_dir = \"../nifti_files/labels/\"\n",
    "\n",
    "# define folder to store testing and training folders\n",
    "\n",
    "train_images_dir = \"../task_data/TrainVolumes/\"\n",
    "train_labels_dir = \"../task_data/TrainSegmentation/\"\n",
    "test_images_dir = \"../task_data/TestVolumes/\"\n",
    "test_labels_dir = \"../task_data/TestSegmentation/\"\n",
    "\n",
    "# define number of slices\n",
    "num_slices = 64\n",
    "\n",
    "# define proportion of test and training data (0-1)\n",
    "train_proportion = 0.8"
   ]
  },
  {
   "cell_type": "code",
   "execution_count": 2,
   "metadata": {},
   "outputs": [],
   "source": [
    "%load_ext autoreload\n",
    "%autoreload 2"
   ]
  },
  {
   "cell_type": "code",
   "execution_count": 4,
   "metadata": {},
   "outputs": [],
   "source": [
    "# import required packages\n",
    "\n",
    "import os\n",
    "from glob import glob\n",
    "import shutil\n",
    "import logging\n",
    "import numpy as np\n",
    "\n",
    "from preporcess import create_groups, dcm2nifti"
   ]
  },
  {
   "attachments": {},
   "cell_type": "markdown",
   "metadata": {},
   "source": [
    "### Step 1: Split DICOM files into similar sized data \n",
    "Before we actually split the DICOM data, first print the list of directories to be targetted for confirmation"
   ]
  },
  {
   "cell_type": "code",
   "execution_count": null,
   "metadata": {},
   "outputs": [],
   "source": [
    "# print image data\n",
    "for patient in sorted(glob(in_images_dir + \"/*\")):\n",
    "    print(patient)\n",
    "\n",
    "# print label data\n",
    "for patient in sorted(glob(in_labels_dir + \"/*\")):\n",
    "    print(patient)"
   ]
  },
  {
   "attachments": {},
   "cell_type": "markdown",
   "metadata": {},
   "source": [
    "Runs the splitting tool provided by original author.\n",
    "WARNING: original code moves data to save space"
   ]
  },
  {
   "cell_type": "code",
   "execution_count": 58,
   "metadata": {},
   "outputs": [],
   "source": [
    "# split images\n",
    "create_groups(in_images_dir, out_images_dir, num_slices)\n",
    "# split labels\n",
    "create_groups(in_labels_dir, out_labels_dir, num_slices)"
   ]
  },
  {
   "attachments": {},
   "cell_type": "markdown",
   "metadata": {},
   "source": [
    "### Optional: Moves split DICOM files back into original files "
   ]
  },
  {
   "cell_type": "code",
   "execution_count": 57,
   "metadata": {},
   "outputs": [],
   "source": [
    "# move back images\n",
    "for patient in glob(in_images_dir + \"/*\"):\n",
    "    head, tail = os.path.split(patient)\n",
    "    for sub_patient in glob(out_images_dir + \"/\" + tail + \"*\"):\n",
    "        if len(os.listdir(sub_patient)) != 0:\n",
    "            for file in glob(sub_patient + \"/*\"):\n",
    "                shutil.move(file, patient)\n",
    "        shutil.rmtree(sub_patient)\n",
    "        \n",
    "# move back labels\n",
    "for patient in glob(in_labels_dir + \"/*\"):\n",
    "    head, tail = os.path.split(patient)\n",
    "    for sub_patient in glob(out_labels_dir + \"/\" + tail + \"*\"):\n",
    "        if len(os.listdir(sub_patient)) != 0:\n",
    "            for file in glob(sub_patient + \"/*\"):\n",
    "                shutil.move(file, patient)\n",
    "        shutil.rmtree(sub_patient)"
   ]
  },
  {
   "attachments": {},
   "cell_type": "markdown",
   "metadata": {},
   "source": [
    "### Step 2: Convert data back into nifti file format"
   ]
  },
  {
   "cell_type": "code",
   "execution_count": null,
   "metadata": {},
   "outputs": [],
   "source": [
    "# convert images\n",
    "dcm2nifti(out_images_dir, out_nifti_img_dir)\n",
    "# convert labels\n",
    "dcm2nifti(out_labels_dir, out_nifti_lbl_dir)"
   ]
  },
  {
   "attachments": {},
   "cell_type": "markdown",
   "metadata": {},
   "source": [
    "### Step 3: Move files into training and testing folders\n",
    "\n",
    "WARNING: Toolkit moves files to new folder (use following code to move them back)"
   ]
  },
  {
   "cell_type": "code",
   "execution_count": 19,
   "metadata": {},
   "outputs": [
    {
     "name": "stdout",
     "output_type": "stream",
     "text": [
      "Num of training data: 372\n",
      "Num of test data: 93\n"
     ]
    }
   ],
   "source": [
    "# function to check that image and label file name matches\n",
    "def assert_data_labels_match(images, labels):\n",
    "    assert(len(images) == len(labels))\n",
    "    for img_name, lbl_name in zip(images, labels):\n",
    "        assert(os.path.basename(img_name) == os.path.basename(lbl_name))\n",
    "\n",
    "\n",
    "# load files to be moved\n",
    "images = sorted(glob(out_nifti_img_dir + \"/*.nii.gz\"))\n",
    "labels = sorted(glob(out_nifti_lbl_dir + \"/*.nii.gz\"))\n",
    "\n",
    "# run checks first\n",
    "assert(train_proportion > 0.0 and train_proportion < 1.0) # correct proportion\n",
    "assert_data_labels_match(images, labels) # image and label name matches\n",
    "\n",
    "# randomly pull N data for training depending on proportion\n",
    "N = int(round(len(images) * train_proportion))\n",
    "print('Num of training data:',N)\n",
    "print('Num of test data:', len(images) - N)\n",
    "train_ind = np.full((len(images)), False, dtype=bool)\n",
    "train_ind[np.random.choice(len(images), N, replace=False)] = True\n",
    "\n",
    "for ind, (image, label) in enumerate(zip(images, labels)):\n",
    "    if train_ind[ind]:\n",
    "        shutil.move(image, train_images_dir)\n",
    "        shutil.move(label, train_labels_dir)\n",
    "    else:\n",
    "        shutil.move(image, test_images_dir)\n",
    "        shutil.move(label, test_labels_dir)"
   ]
  },
  {
   "attachments": {},
   "cell_type": "markdown",
   "metadata": {},
   "source": [
    "### Optional: Move files back to Nifti folder to be redeployed"
   ]
  },
  {
   "cell_type": "code",
   "execution_count": 22,
   "metadata": {},
   "outputs": [
    {
     "name": "stdout",
     "output_type": "stream",
     "text": [
      "Moved 372 train images\n",
      "Moved 372 train labels\n",
      "Moved 93 test images\n",
      "Moved 93 test labels\n"
     ]
    }
   ],
   "source": [
    "# fetch all files\n",
    "train_images = glob(train_images_dir + \"/*.nii.gz\")\n",
    "train_labels = glob(train_labels_dir + \"/*.nii.gz\")\n",
    "test_images = glob(test_images_dir + \"/*.nii.gz\")\n",
    "test_labels = glob(test_labels_dir + \"/*.nii.gz\")\n",
    "\n",
    "# move train images\n",
    "for train_image in train_images:\n",
    "    shutil.move(train_image, out_nifti_img_dir)\n",
    "print('Moved',len(train_images),'train images')\n",
    "# move train labels\n",
    "for train_label in train_labels:\n",
    "    shutil.move(train_label, out_nifti_lbl_dir)\n",
    "print('Moved',len(train_labels),'train labels')\n",
    "# move test images\n",
    "for test_image in test_images:\n",
    "    shutil.move(test_image, out_nifti_img_dir)\n",
    "print('Moved',len(test_images),'test images')\n",
    "# move test labels\n",
    "for test_label in test_labels:\n",
    "    shutil.move(test_label, out_nifti_lbl_dir)\n",
    "print('Moved',len(test_labels),'test labels')"
   ]
  }
 ],
 "metadata": {
  "kernelspec": {
   "display_name": "ml",
   "language": "python",
   "name": "python3"
  },
  "language_info": {
   "codemirror_mode": {
    "name": "ipython",
    "version": 3
   },
   "file_extension": ".py",
   "mimetype": "text/x-python",
   "name": "python",
   "nbconvert_exporter": "python",
   "pygments_lexer": "ipython3",
   "version": "3.10.9"
  },
  "orig_nbformat": 4,
  "vscode": {
   "interpreter": {
    "hash": "f87437c6f6c3ae3f7e6174368664cb2e4617e6694524c7a4c73d44c0f1612a3f"
   }
  }
 },
 "nbformat": 4,
 "nbformat_minor": 2
}
