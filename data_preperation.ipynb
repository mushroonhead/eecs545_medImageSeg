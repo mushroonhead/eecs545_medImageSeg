{
 "cells": [
  {
   "attachments": {},
   "cell_type": "markdown",
   "metadata": {},
   "source": [
    "# Data Preperation (Manual)"
   ]
  },
  {
   "attachments": {},
   "cell_type": "markdown",
   "metadata": {},
   "source": [
    "Assumes you had prepared data according to manual method shown in Youtube video (https://www.youtube.com/watch?v=M3ZWfamWrBM)\n",
    "\n",
    "Prior Steps involved:\n",
    "1. Create 'dicom_file' folder to store all dicom intermediate data\n",
    "2. Create 'images' and 'labels' folders in 'dicom_file' to store all input(data) and output(labels)\n",
    "3. For each patient, use 3D Slicer to convert their image and segmentation data into images and labels\n",
    "4. Create 'dicom_group' folder to store all subsampled intermediate data\n",
    "5. Create 'images' and 'labels' folders in 'dicom_group' to store all input(data) and output(labels)\n",
    "6. Create 'nifti_files' folder to store nifti outputs\n",
    "7. Create 'images' and 'labels' folders in 'nifti_files' to store all input(data) and output(labels)"
   ]
  },
  {
   "cell_type": "code",
   "execution_count": null,
   "metadata": {},
   "outputs": [],
   "source": [
    "# define folder containin dicom intermediates\n",
    "\n",
    "in_images_dir = \"../dicom_file/images\"\n",
    "out_images_dir = \"../dicom_groups/images\"\n",
    "out_nifti_img_dir = \"../nifti_files/images/\"\n",
    "\n",
    "in_labels_dir = \"../dicom_file/labels\"\n",
    "out_labels_dir = \"../dicom_groups/labels\"\n",
    "out_nifti_lbl_dir = \"../nifti_files/labels/\"\n",
    "\n",
    "# define number of slices\n",
    "num_slices = 64"
   ]
  },
  {
   "cell_type": "code",
   "execution_count": null,
   "metadata": {},
   "outputs": [],
   "source": [
    "%load_ext autoreload\n",
    "%autoreload 2"
   ]
  },
  {
   "cell_type": "code",
   "execution_count": 61,
   "metadata": {},
   "outputs": [],
   "source": [
    "# import required packages\n",
    "\n",
    "import os\n",
    "from glob import glob\n",
    "import shutil\n",
    "import logging\n",
    "\n",
    "from preporcess import create_groups, dcm2nifti"
   ]
  },
  {
   "attachments": {},
   "cell_type": "markdown",
   "metadata": {},
   "source": [
    "### Step 1: Split DICOM files into similar sized data \n",
    "Before we actually split the DICOM data, first print the list of directories to be targetted for confirmation"
   ]
  },
  {
   "cell_type": "code",
   "execution_count": null,
   "metadata": {},
   "outputs": [],
   "source": [
    "# print image data\n",
    "for patient in sorted(glob(in_images_dir + \"/*\")):\n",
    "    print(patient)\n",
    "\n",
    "# print label data\n",
    "for patient in sorted(glob(in_labels_dir + \"/*\")):\n",
    "    print(patient)"
   ]
  },
  {
   "attachments": {},
   "cell_type": "markdown",
   "metadata": {},
   "source": [
    "Runs the splitting tool provided by original author.\n",
    "WARNING: original code moves data to save space"
   ]
  },
  {
   "cell_type": "code",
   "execution_count": 58,
   "metadata": {},
   "outputs": [],
   "source": [
    "# split images\n",
    "create_groups(in_images_dir, out_images_dir, num_slices)\n",
    "# split labels\n",
    "create_groups(in_labels_dir, out_labels_dir, num_slices)"
   ]
  },
  {
   "cell_type": "code",
   "execution_count": 78,
   "metadata": {},
   "outputs": [
    {
     "name": "stdout",
     "output_type": "stream",
     "text": [
      "40\n",
      "2023-03-06 03:10:03,112 - WARNING: Assuming generic vendor conversion (ANATOMICAL)\n",
      "2023-03-06 03:10:03,163 - Saving nifti to disk ../nifti_files/images/test.nii.gz\n"
     ]
    },
    {
     "data": {
      "text/plain": [
       "{'NII_FILE': '../nifti_files/images/test.nii.gz',\n",
       " 'NII': <nibabel.nifti1.Nifti1Image at 0x7f566d53dd20>,\n",
       " 'MAX_SLICE_INCREMENT': 0.7000000000000004}"
      ]
     },
     "execution_count": 78,
     "metadata": {},
     "output_type": "execute_result"
    }
   ],
   "source": [
    "import dicom2nifti\n",
    "\n",
    "logger = logging.getLogger(__name__)\n",
    "logger.setLevel(logging.ERROR)\n",
    "logger.propagate = False\n",
    "print(logger.getEffectiveLevel())\n",
    "\n",
    "s = sorted(glob(out_images_dir + \"/*\"))\n",
    "\n",
    "dicom2nifti.dicom_series_to_nifti(s[0], os.path.join(out_nifti_img_dir, 'test.nii.gz'))\n",
    "print(\"done\")"
   ]
  },
  {
   "attachments": {},
   "cell_type": "markdown",
   "metadata": {},
   "source": [
    "### Step 2: Convert data back into nifti file format"
   ]
  },
  {
   "cell_type": "code",
   "execution_count": null,
   "metadata": {},
   "outputs": [],
   "source": [
    "# convert images\n",
    "dcm2nifti(out_images_dir, out_nifti_img_dir)\n",
    "# convert labels\n",
    "dcm2nifti(out_labels_dir, out_nifti_lbl_dir)"
   ]
  },
  {
   "attachments": {},
   "cell_type": "markdown",
   "metadata": {},
   "source": [
    "### Optional: Moves split DICOM files back into original files "
   ]
  },
  {
   "cell_type": "code",
   "execution_count": 57,
   "metadata": {},
   "outputs": [],
   "source": [
    "# move back images\n",
    "for patient in glob(in_images_dir + \"/*\"):\n",
    "    head, tail = os.path.split(patient)\n",
    "    for sub_patient in glob(out_images_dir + \"/\" + tail + \"*\"):\n",
    "        if len(os.listdir(sub_patient)) != 0:\n",
    "            for file in glob(sub_patient + \"/*\"):\n",
    "                shutil.move(file, patient)\n",
    "        shutil.rmtree(sub_patient)\n",
    "        \n",
    "# move back labels\n",
    "for patient in glob(in_labels_dir + \"/*\"):\n",
    "    head, tail = os.path.split(patient)\n",
    "    for sub_patient in glob(out_labels_dir + \"/\" + tail + \"*\"):\n",
    "        if len(os.listdir(sub_patient)) != 0:\n",
    "            for file in glob(sub_patient + \"/*\"):\n",
    "                shutil.move(file, patient)\n",
    "        shutil.rmtree(sub_patient)"
   ]
  }
 ],
 "metadata": {
  "kernelspec": {
   "display_name": "ml",
   "language": "python",
   "name": "python3"
  },
  "language_info": {
   "codemirror_mode": {
    "name": "ipython",
    "version": 3
   },
   "file_extension": ".py",
   "mimetype": "text/x-python",
   "name": "python",
   "nbconvert_exporter": "python",
   "pygments_lexer": "ipython3",
   "version": "3.10.9"
  },
  "orig_nbformat": 4,
  "vscode": {
   "interpreter": {
    "hash": "f87437c6f6c3ae3f7e6174368664cb2e4617e6694524c7a4c73d44c0f1612a3f"
   }
  }
 },
 "nbformat": 4,
 "nbformat_minor": 2
}
